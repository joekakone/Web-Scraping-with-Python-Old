{
 "cells": [
  {
   "cell_type": "markdown",
   "metadata": {
    "id": "m2HTl0fu8ORT"
   },
   "source": [
    "# Web Scraping with Python\n",
    "\n",
    "1. **BeautifulSoup** [[Notebook]](01_beautifulsoup.ipynb)\n",
    "2. Scrapy [[Notebook]](02_scrapy.ipynb)\n",
    "3. Selenium [[Notebook]](03_selenium.ipynb)\n",
    "4. Pandas [[Notebook]](04_pandas.ipynb)\n",
    "\n",
    "prepared by [Joseph Konka](https://www.linkedin.com/in/joseph-koami-konka/)"
   ]
  },
  {
   "cell_type": "markdown",
   "metadata": {},
   "source": [
    "## Collect Job offers online with BeautifulSoup\n",
    "[Emploi.tg](https://www.emploi.tg/) is a job offers website. The task consist \n",
    "1. Get the list of available job offers\n",
    "2. Extract job offers details\n",
    "3. Export data to .json file"
   ]
  },
  {
   "cell_type": "markdown",
   "metadata": {
    "id": "kPupzyR57SNJ"
   },
   "source": [
    "## Packages"
   ]
  },
  {
   "cell_type": "code",
   "execution_count": 1,
   "metadata": {
    "id": "gQ7IFdbt7Vjy"
   },
   "outputs": [],
   "source": [
    "import json\n",
    "\n",
    "import requests\n",
    "from bs4 import BeautifulSoup\n",
    "import pandas as pd"
   ]
  },
  {
   "cell_type": "markdown",
   "metadata": {
    "id": "kbKAKQDM7Y-9"
   },
   "source": [
    "## Paths & Config"
   ]
  },
  {
   "cell_type": "code",
   "execution_count": 2,
   "metadata": {
    "id": "vZY6WNr97dJN"
   },
   "outputs": [],
   "source": [
    "BASE_URL = \"https://www.emploi.tg/recherche-jobs-togo?page={}\"\n",
    "OUTPUT_FILE = \"outputs/emploi_tg.json\""
   ]
  },
  {
   "cell_type": "markdown",
   "metadata": {},
   "source": [
    "## Structure"
   ]
  },
  {
   "cell_type": "code",
   "execution_count": 3,
   "metadata": {},
   "outputs": [],
   "source": [
    "MOTHER_BALISE = \"div\"\n",
    "MOTHER_CLASS = \"search-results jobsearch-results\"\n",
    "\n",
    "ITEM_BALISE = \"div\"\n",
    "ITEM_CLASS = \"job-description-wrapper\"\n",
    "ITEM_TITLE_BALISE = \"h5\"\n",
    "ITEM_RECRUTER_BALISE = \"p\"\n",
    "ITEM_RECRUTER_CLASS = \"job-recruiter\"\n",
    "SPLITER = \"|\"\n",
    "ITEM_OVERVIEW_BALISE = \"div\"\n",
    "ITEM_OVERVIEW_CLASS = \"search-description\"\n",
    "ITEM_LINK_BALISE = \"a\"\n",
    "\n",
    "WEBSITE_BALISE = \"td\"\n",
    "WEBSITE_CLASS = \"website-url\"\n",
    "\n",
    "FIELD_BALISE = \"div\"\n",
    "FIELD_CLASS = \"field-item even\"\n",
    "\n",
    "POSITION_MOTHER_BALISE = \"div\"\n",
    "POSITION_MOTHER_CLASS = \"ad-ss-title\"\n",
    "POSITION_BALISE = \"strong\"\n",
    "\n",
    "CONTENT_BALISE = \"div\"\n",
    "CONTENT_CLASS = \"jobs-ad-details\""
   ]
  },
  {
   "cell_type": "markdown",
   "metadata": {
    "id": "slgLjts77f07"
   },
   "source": [
    "## Functions & Classes"
   ]
  },
  {
   "cell_type": "code",
   "execution_count": 4,
   "metadata": {
    "id": "CVKlqY9x8m33"
   },
   "outputs": [],
   "source": [
    "class BaseScraper(object):\n",
    "    def __init__(self, params=None):\n",
    "        self.params = params\n",
    "\n",
    "    @staticmethod\n",
    "    def get_source(url):\n",
    "        # retreive source code \n",
    "        code = requests.get(url)\n",
    "\n",
    "        return BeautifulSoup(code.text, \"html.parser\")\n",
    "\n",
    "    def extract_item_details(self):\n",
    "        raise NotImplementedError\n",
    "\n",
    "    def get_items(self):\n",
    "        raise NotImplementedError\n",
    "\n",
    "    @staticmethod\n",
    "    def save(data, path):\n",
    "        # Save data\n",
    "        print(f\"Saving data at {path}\")\n",
    "        writer = pd.ExcelWriter(path)\n",
    "        data.to_excel(writer, index=False, sheet_name=\"Offers\")"
   ]
  },
  {
   "cell_type": "code",
   "execution_count": 5,
   "metadata": {
    "id": "W_lTAN8E7pBq"
   },
   "outputs": [],
   "source": [
    "class EmploiTogoScraper(BaseScraper):\n",
    "    def __init__(self, params=None):\n",
    "        super().__init__(params=params)\n",
    "\n",
    "    def get_item_details(self, url):\n",
    "        print(\"->\", url)\n",
    "        soup = self.get_source(url)\n",
    "        field = soup.find(FIELD_BALISE, {\"class\": FIELD_CLASS}).text\n",
    "        content = soup.find(CONTENT_BALISE, {\"class\": CONTENT_CLASS}).text.strip()\n",
    "\n",
    "        details = {\n",
    "            \"field\": field,\n",
    "            \"content\": content\n",
    "        }\n",
    "        return details\n",
    "\n",
    "    def get_items(self, soup):\n",
    "        soup_items = soup.find_all(ITEM_BALISE, {\"class\": ITEM_CLASS})\n",
    "        items = []\n",
    "        for soup_item in soup_items:\n",
    "            title = soup_item.find(ITEM_TITLE_BALISE).text\n",
    "            recruter = soup_item.find(ITEM_RECRUTER_BALISE, {\"class\": ITEM_RECRUTER_CLASS})\n",
    "            date, recruter = recruter.text.split(SPLITER)\n",
    "            date, recruter = date.strip().replace(\".\", \"/\"), recruter.strip()\n",
    "            url = soup_item.get(\"data-href\")\n",
    "            overview = soup_item.find(ITEM_OVERVIEW_BALISE, {\"class\": ITEM_OVERVIEW_CLASS}).text\n",
    "            details = self.get_item_details(url)\n",
    "            items.append(\n",
    "                {\n",
    "                    \"title\": title,\n",
    "                    \"url\": url,\n",
    "                    \"recruter\": recruter,\n",
    "                    \"date\": date,\n",
    "                    \"overview\": overview,\n",
    "                    \"content\": details[\"content\"]\n",
    "                }\n",
    "            )\n",
    "        return items"
   ]
  },
  {
   "cell_type": "markdown",
   "metadata": {
    "id": "e_44Td649hxZ"
   },
   "source": [
    "## Start collecting data"
   ]
  },
  {
   "cell_type": "code",
   "execution_count": 6,
   "metadata": {
    "id": "5DOGc7iv9RHf"
   },
   "outputs": [],
   "source": [
    "scraper = EmploiTogoScraper()"
   ]
  },
  {
   "cell_type": "code",
   "execution_count": 7,
   "metadata": {
    "colab": {
     "base_uri": "https://localhost:8080/"
    },
    "id": "0rUwWPB97rU8",
    "outputId": "e2ebf648-fc56-464e-c14c-86034924d850"
   },
   "outputs": [
    {
     "name": "stdout",
     "output_type": "stream",
     "text": [
      "-> https://www.emploi.tg/offre-emploi-togo/assistante-commerciale-198042\n",
      "-> https://www.emploi.tg/offre-emploi-togo/delegue-medical-202253\n",
      "-> https://www.emploi.tg/offre-emploi-togo/assistante-administrative-djagble-202323\n",
      "-> https://www.emploi.tg/offre-emploi-togo/controleur-gestion-experimente-50665\n",
      "-> https://www.emploi.tg/offre-emploi-togo/charge-mission-ressources-humaines-etablissements-sante-hf-53421\n",
      "-> https://www.emploi.tg/offre-emploi-togo/hospitalier-action-social-58130\n",
      "-> https://www.emploi.tg/offre-emploi-togo/receptionniste-158285\n",
      "-> https://www.emploi.tg/offre-emploi-togo/charge-clienteles-bilingues-174589\n",
      "-> https://www.emploi.tg/offre-emploi-togo/cuisinier-182692\n",
      "-> https://www.emploi.tg/offre-emploi-togo/commercial-192110\n",
      "-> https://www.emploi.tg/offre-emploi-togo/superviseur-ventes-192121\n",
      "-> https://www.emploi.tg/offre-emploi-togo/responsable-management-operationnel-commercial-marketing-196081\n",
      "-> https://www.emploi.tg/offre-emploi-togo/ingenieur-commercial-b2b-196548\n",
      "-> https://www.emploi.tg/offre-emploi-togo/commercial-terrain-b2b-196817\n",
      "-> https://www.emploi.tg/offre-emploi-togo/responsable-formation-hf-196823\n",
      "-> https://www.emploi.tg/offre-emploi-togo/software-dev-remote-internship-197042\n",
      "-> https://www.emploi.tg/offre-emploi-togo/attache-commercial-197084\n",
      "-> https://www.emploi.tg/offre-emploi-togo/cuisinier-197284\n",
      "-> https://www.emploi.tg/offre-emploi-togo/agent-commercial-197614\n",
      "-> https://www.emploi.tg/offre-emploi-togo/receptionniste-197777\n",
      "-> https://www.emploi.tg/offre-emploi-togo/angular-developer-197806\n",
      "-> https://www.emploi.tg/offre-emploi-togo/devops-engineer-197807\n",
      "-> https://www.emploi.tg/offre-emploi-togo/dotnet-developer-197808\n",
      "-> https://www.emploi.tg/offre-emploi-togo/ios-developer-197809\n",
      "-> https://www.emploi.tg/offre-emploi-togo/java-developer-197810\n",
      "-> https://www.emploi.tg/offre-emploi-togo/java-jee-developer-197811\n",
      "-> https://www.emploi.tg/offre-emploi-togo/javascript-developer-197812\n",
      "-> https://www.emploi.tg/offre-emploi-togo/kotlin-developer-197813\n",
      "-> https://www.emploi.tg/offre-emploi-togo/laravel-developer-197814\n",
      "-> https://www.emploi.tg/offre-emploi-togo/nodejs-developer-197815\n",
      "-> https://www.emploi.tg/offre-emploi-togo/objective-c-developer-197816\n",
      "-> https://www.emploi.tg/offre-emploi-togo/php-developer-197817\n",
      "-> https://www.emploi.tg/offre-emploi-togo/python-developer-197818\n",
      "-> https://www.emploi.tg/offre-emploi-togo/qa-tester-197819\n",
      "-> https://www.emploi.tg/offre-emploi-togo/react-developer-197820\n",
      "-> https://www.emploi.tg/offre-emploi-togo/ruby-on-rails-developer-197821\n",
      "-> https://www.emploi.tg/offre-emploi-togo/swift-developer-197822\n",
      "-> https://www.emploi.tg/offre-emploi-togo/test-validation-engineer-197823\n",
      "-> https://www.emploi.tg/offre-emploi-togo/test-automation-engineer-197824\n",
      "-> https://www.emploi.tg/offre-emploi-togo/ux-ui-designer-197825\n",
      "-> https://www.emploi.tg/offre-emploi-togo/comptable-hf-lome-198059\n",
      "-> https://www.emploi.tg/offre-emploi-togo/technicien-hf-support-logiciels-odoo-198064\n",
      "-> https://www.emploi.tg/offre-emploi-togo/assistant-ressources-humaines-hf-198076\n",
      "-> https://www.emploi.tg/offre-emploi-togo/chef-projet-infrastructure-data-center-198252\n",
      "-> https://www.emploi.tg/offre-emploi-togo/psychologue-clinicien-hf-198513\n",
      "-> https://www.emploi.tg/offre-emploi-togo/ingenieur-validation-protocole-reseau-lora-iot-198979\n",
      "-> https://www.emploi.tg/offre-emploi-togo/assistant-juridique-hf-199253\n",
      "-> https://www.emploi.tg/offre-emploi-togo/chauffeur-professionnel-199557\n",
      "-> https://www.emploi.tg/offre-emploi-togo/apporteur-affaire-199658\n",
      "-> https://www.emploi.tg/offre-emploi-togo/commercial-hf-200155\n",
      "-> https://www.emploi.tg/offre-emploi-togo/web-designer-200187\n",
      "-> https://www.emploi.tg/offre-emploi-togo/developpeur-applications-back-end-hf-php-symfony-laravel-200327\n",
      "-> https://www.emploi.tg/offre-emploi-togo/developpeur-application-front-end-webmobile-hf-angularionic-200334\n",
      "-> https://www.emploi.tg/offre-emploi-togo/senior-software-backend-engineer-nodejs-frankfurt-germany-200975\n",
      "-> https://www.emploi.tg/offre-emploi-togo/agent-commercial-chasseur-201012\n",
      "-> https://www.emploi.tg/offre-emploi-togo/developpeur-junior-201048\n",
      "-> https://www.emploi.tg/offre-emploi-togo/responsable-hygiene-securite-environnement-hf-lome-201108\n",
      "-> https://www.emploi.tg/offre-emploi-togo/software-developer-php-laravel-mysql-frankfurt-germany-201109\n",
      "-> https://www.emploi.tg/offre-emploi-togo/senior-software-backend-engineer-golang-frankfurt-germany-201110\n",
      "-> https://www.emploi.tg/offre-emploi-togo/enseignant-primaire-secondaire-201136\n",
      "-> https://www.emploi.tg/offre-emploi-togo/regional-director-west-central-africa-sector-ngo-201154\n",
      "-> https://www.emploi.tg/offre-emploi-togo/gerante-assistante-boutique-201222\n",
      "-> https://www.emploi.tg/offre-emploi-togo/responsable-commercial-qualifie-hf-201223\n",
      "-> https://www.emploi.tg/offre-emploi-togo/stage-pre-emploi-genie-logiciel-developpement-application-201224\n",
      "-> https://www.emploi.tg/offre-emploi-togo/assistante-direction-201370\n",
      "-> https://www.emploi.tg/offre-emploi-togo/assistant-communication-polyvalente-hf-201436\n",
      "-> https://www.emploi.tg/offre-emploi-togo/webmaster-201437\n",
      "-> https://www.emploi.tg/offre-emploi-togo/graphic-designer-201439\n",
      "-> https://www.emploi.tg/offre-emploi-togo/charge-exploitation-informatique-bss-hf-201477\n",
      "-> https://www.emploi.tg/offre-emploi-togo/chef-equipe-hf-hahonotse-201486\n",
      "-> https://www.emploi.tg/offre-emploi-togo/technicien-solaire-hf-hahonotse-201491\n",
      "-> https://www.emploi.tg/offre-emploi-togo/controleur-gestion-reporting-officer-201493\n",
      "-> https://www.emploi.tg/offre-emploi-togo/commercial-hf-201577\n",
      "-> https://www.emploi.tg/offre-emploi-togo/gerant-societe-201680\n",
      "-> https://www.emploi.tg/offre-emploi-togo/gerant-depot-gaz-202079\n",
      "-> https://www.emploi.tg/offre-emploi-togo/talent-acquisition-manager-202153\n",
      "-> https://www.emploi.tg/offre-emploi-togo/charge-sea-hf-202154\n",
      "-> https://www.emploi.tg/offre-emploi-togo/growth-hacker-hf-202155\n",
      "-> https://www.emploi.tg/offre-emploi-togo/designer-graphique-senior-hf-202183\n",
      "-> https://www.emploi.tg/offre-emploi-togo/charge-qualite-hf-202184\n",
      "-> https://www.emploi.tg/offre-emploi-togo/ingenieur-virtualisation-vmware-hf-202185\n",
      "-> https://www.emploi.tg/offre-emploi-togo/developpeur-web-application-202325\n",
      "-> https://www.emploi.tg/offre-emploi-togo/sales-director-201557\n",
      "-> https://www.emploi.tg/offre-emploi-togo/internal-integration-developer-201560\n",
      "-> https://www.emploi.tg/offre-emploi-togo/electronic-data-interchange-developer-201562\n",
      "-> https://www.emploi.tg/offre-emploi-togo/regional-advisor-inclusive-eye-health-africa-west-central-202119\n",
      "-> https://www.emploi.tg/offre-emploi-togo/alumni-coordinator-202109\n",
      "-> https://www.emploi.tg/offre-emploi-togo/director-executive-education-202108\n",
      "-> https://www.emploi.tg/offre-emploi-togo/consulting-analyst-202107\n",
      "-> https://www.emploi.tg/offre-emploi-togo/media-relations-manager-201086\n",
      "-> https://www.emploi.tg/offre-emploi-togo/office-coordinator-scheduling-full-time-daysevenings-201059\n",
      "-> https://www.emploi.tg/offre-emploi-togo/product-manager-200577\n",
      "-> https://www.emploi.tg/offre-emploi-togo/expert-national-200579\n",
      "-> https://www.emploi.tg/offre-emploi-togo/manager-communication-hf-200582\n",
      "-> https://www.emploi.tg/offre-emploi-togo/commercial-hf-200583\n",
      "-> https://www.emploi.tg/offre-emploi-togo/commercial-hf-200585\n",
      "-> https://www.emploi.tg/offre-emploi-togo/senior-security-engineer-201213\n",
      "-> https://www.emploi.tg/offre-emploi-togo/principal-backend-engineer-201212\n",
      "-> https://www.emploi.tg/offre-emploi-togo/technical-support-specialist-201208\n",
      "-> https://www.emploi.tg/offre-emploi-togo/senior-backend-engineer-201210\n",
      "-> https://www.emploi.tg/offre-emploi-togo/global-clinical-project-manager-201163\n",
      "-> https://www.emploi.tg/offre-emploi-togo/financial-analyst-healthcare-cro-experience-201162\n",
      "-> https://www.emploi.tg/offre-emploi-togo/principal-programmer-analyst-201160\n",
      "-> https://www.emploi.tg/offre-emploi-togo/compliance-manager-gxp-vendor-quality-201161\n",
      "-> https://www.emploi.tg/offre-emploi-togo/alumni-coordinator-lome-200387\n",
      "-> https://www.emploi.tg/offre-emploi-togo/technical-support-analyst-cloud-solutions-200391\n",
      "-> https://www.emploi.tg/offre-emploi-togo/golang-developer-xk6-browser-200396\n",
      "-> https://www.emploi.tg/offre-emploi-togo/office-coordinator-scheduling-part-time-daysevenings-201060\n",
      "-> https://www.emploi.tg/offre-emploi-togo/unreal-engine-developer-200844\n",
      "-> https://www.emploi.tg/offre-emploi-togo/elixir-developer-200842\n",
      "-> https://www.emploi.tg/offre-emploi-togo/data-engineer-200843\n",
      "-> https://www.emploi.tg/offre-emploi-togo/principle-cloud-engineer-199863\n",
      "-> https://www.emploi.tg/offre-emploi-togo/itot-support-analyst-199865\n",
      "-> https://www.emploi.tg/offre-emploi-togo/payroll-lead-199868\n",
      "-> https://www.emploi.tg/offre-emploi-togo/marine-digital-business-lead-199788\n",
      "-> https://www.emploi.tg/offre-emploi-togo/commercial-account-executive-200392\n",
      "-> https://www.emploi.tg/offre-emploi-togo/data-engineer-200219\n",
      "-> https://www.emploi.tg/offre-emploi-togo/web-designer-200221\n",
      "-> https://www.emploi.tg/offre-emploi-togo/ui-designer-200223\n",
      "-> https://www.emploi.tg/offre-emploi-togo/ecommerce-developer-200218\n",
      "-> https://www.emploi.tg/offre-emploi-togo/quantitative-ux-researcher-199870\n",
      "-> https://www.emploi.tg/offre-emploi-togo/manager-communication-198966\n",
      "-> https://www.emploi.tg/offre-emploi-togo/ui-designer-199798\n",
      "-> https://www.emploi.tg/offre-emploi-togo/web-designer-199801\n",
      "-> https://www.emploi.tg/offre-emploi-togo/mobile-app-designer-199795\n",
      "-> https://www.emploi.tg/offre-emploi-togo/mobile-app-designer-199577\n",
      "-> https://www.emploi.tg/offre-emploi-togo/ui-designer-199578\n",
      "-> https://www.emploi.tg/offre-emploi-togo/enterprise-customer-success-manager-199575\n",
      "-> https://www.emploi.tg/offre-emploi-togo/senior-manager-sales-operations-199574\n",
      "-> https://www.emploi.tg/offre-emploi-togo/director-of-financial-operations-199463\n",
      "-> https://www.emploi.tg/offre-emploi-togo/senior-product-manager-innovation-work-from-anywhere-199464\n",
      "-> https://www.emploi.tg/offre-emploi-togo/senior-apisdk-technical-writer-grafana-division-199457\n",
      "-> https://www.emploi.tg/offre-emploi-togo/senior-mobile-engineer-grafana-on-call-remote-emea-199461\n",
      "-> https://www.emploi.tg/offre-emploi-togo/ui-designer-198994\n",
      "-> https://www.emploi.tg/offre-emploi-togo/data-engineer-198995\n",
      "-> https://www.emploi.tg/offre-emploi-togo/quality-engineering-manager-emea-198990\n",
      "-> https://www.emploi.tg/offre-emploi-togo/web-designer-197203\n",
      "-> https://www.emploi.tg/offre-emploi-togo/web-designer-198751\n",
      "-> https://www.emploi.tg/offre-emploi-togo/ui-designer-198744\n",
      "-> https://www.emploi.tg/offre-emploi-togo/mobile-app-designer-198747\n",
      "-> https://www.emploi.tg/offre-emploi-togo/data-engineer-198748\n",
      "-> https://www.emploi.tg/offre-emploi-togo/commercial-account-executive-198576\n",
      "-> https://www.emploi.tg/offre-emploi-togo/senior-full-stack-javascript-engineer-198572\n",
      "-> https://www.emploi.tg/offre-emploi-togo/senior-software-engineer-grafana-observability-remote-emea-198571\n",
      "-> https://www.emploi.tg/offre-emploi-togo/director-of-developer-advocacy-198569\n",
      "-> https://www.emploi.tg/offre-emploi-togo/ecommerce-developer-197487\n",
      "-> https://www.emploi.tg/offre-emploi-togo/web-designer-197489\n",
      "-> https://www.emploi.tg/offre-emploi-togo/data-engineer-197490\n",
      "-> https://www.emploi.tg/offre-emploi-togo/mobile-app-designer-197492\n",
      "-> https://www.emploi.tg/offre-emploi-togo/data-engineer-198247\n",
      "-> https://www.emploi.tg/offre-emploi-togo/data-engineer-198247\n",
      "-> https://www.emploi.tg/offre-emploi-togo/mobile-app-designer-198248\n",
      "-> https://www.emploi.tg/offre-emploi-togo/ecommerce-developer-198245\n",
      "-> https://www.emploi.tg/offre-emploi-togo/manager-of-customer-success-professional-services-197382\n",
      "-> https://www.emploi.tg/offre-emploi-togo/product-manager-innovation-work-from-anywhere-197383\n",
      "-> https://www.emploi.tg/offre-emploi-togo/business-development-manager-innovation-work-from-anywhere-197387\n",
      "-> https://www.emploi.tg/offre-emploi-togo/senior-product-manager-innovation-work-from-anywhere-197390\n",
      "-> https://www.emploi.tg/offre-emploi-togo/web-designer-198110\n",
      "-> https://www.emploi.tg/offre-emploi-togo/mobile-app-designer-198097\n",
      "-> https://www.emploi.tg/offre-emploi-togo/ui-designer-198102\n",
      "-> https://www.emploi.tg/offre-emploi-togo/data-engineer-198107\n",
      "-> https://www.emploi.tg/offre-emploi-togo/senior-fullstack-javascript-engineer-remote-emea-197275\n",
      "-> https://www.emploi.tg/offre-emploi-togo/software-engineer-cloud-databaseemea-remote-197279\n",
      "-> https://www.emploi.tg/offre-emploi-togo/senior-software-engineer-cloud-databaseemea-remote-197282\n",
      "-> https://www.emploi.tg/offre-emploi-togo/senior-backend-engineer-infrastructure-observability-197289\n",
      "-> https://www.emploi.tg/offre-emploi-togo/senior-customer-success-manager-197982\n",
      "-> https://www.emploi.tg/offre-emploi-togo/senior-software-engineer-k6-remote-emea-197984\n",
      "-> https://www.emploi.tg/offre-emploi-togo/commercial-account-executive-remote-dach-197974\n",
      "-> https://www.emploi.tg/offre-emploi-togo/customer-success-manager-north-emea-remote-197973\n",
      "-> https://www.emploi.tg/offre-emploi-togo/ruby-on-rails-developer-197202\n",
      "-> https://www.emploi.tg/offre-emploi-togo/drupal-developer-197201\n",
      "-> https://www.emploi.tg/offre-emploi-togo/ui-designer-197199\n",
      "-> https://www.emploi.tg/offre-emploi-togo/ui-designer-197091\n",
      "-> https://www.emploi.tg/offre-emploi-togo/web-designer-197090\n",
      "-> https://www.emploi.tg/offre-emploi-togo/drupal-developer-197089\n",
      "-> https://www.emploi.tg/offre-emploi-togo/ecommerce-developer-197088\n",
      "-> https://www.emploi.tg/offre-emploi-togo/ui-designer-196845\n",
      "-> https://www.emploi.tg/offre-emploi-togo/ruby-on-rails-developer-196849\n",
      "-> https://www.emploi.tg/offre-emploi-togo/drupal-developer-196848\n",
      "-> https://www.emploi.tg/offre-emploi-togo/web-designer-196846\n",
      "-> https://www.emploi.tg/offre-emploi-togo/german-speaking-customer-success-manager-emea-196755\n",
      "-> https://www.emploi.tg/offre-emploi-togo/director-of-fintech-operations-196760\n",
      "-> https://www.emploi.tg/offre-emploi-togo/quality-engineer-fully-remote-196762\n",
      "-> https://www.emploi.tg/offre-emploi-togo/account-executive-emea-french-speaker-fully-remote-196763\n",
      "-> https://www.emploi.tg/offre-emploi-togo/pre-sales-solutions-engineer-emea-remote-196650\n",
      "-> https://www.emploi.tg/offre-emploi-togo/senior-frontend-engineer-cloud-196651\n",
      "-> https://www.emploi.tg/offre-emploi-togo/senior-commercial-counsel-remote-emea-196652\n",
      "-> https://www.emploi.tg/offre-emploi-togo/senior-python-backend-engineer-k6-remote-emea-196653\n",
      "-> https://www.emploi.tg/offre-emploi-togo/drupal-developer-196525\n",
      "-> https://www.emploi.tg/offre-emploi-togo/web-designer-196524\n",
      "-> https://www.emploi.tg/offre-emploi-togo/ruby-on-rails-developer-196523\n",
      "-> https://www.emploi.tg/offre-emploi-togo/ecommerce-developer-196522\n"
     ]
    }
   ],
   "source": [
    "jobs = []\n",
    "i = 0\n",
    "while True:\n",
    "    soup = scraper.get_source(BASE_URL.format(i))\n",
    "    try:\n",
    "        # Pagination\n",
    "        items = scraper.get_items(soup)\n",
    "        assert len(items) > 0\n",
    "        jobs.extend(items)\n",
    "        i += 1\n",
    "    except:\n",
    "        break"
   ]
  },
  {
   "cell_type": "markdown",
   "metadata": {
    "id": "no9u9Wq971UI"
   },
   "source": [
    "## Save data to .json"
   ]
  },
  {
   "cell_type": "code",
   "execution_count": 8,
   "metadata": {},
   "outputs": [],
   "source": [
    "with open(OUTPUT_FILE, 'w') as f:\n",
    "    json.dump(jobs, f, ensure_ascii=True, indent=4)"
   ]
  },
  {
   "cell_type": "markdown",
   "metadata": {
    "id": "FAgQJEDYEKQI"
   },
   "source": [
    "## Load job offers from json file"
   ]
  },
  {
   "cell_type": "code",
   "execution_count": 9,
   "metadata": {
    "colab": {
     "base_uri": "https://localhost:8080/",
     "height": 281
    },
    "id": "nGVrAB_GC9kd",
    "outputId": "00866528-3124-47d0-dc5d-c6b4e4d63840"
   },
   "outputs": [
    {
     "data": {
      "text/html": [
       "<div>\n",
       "<style scoped>\n",
       "    .dataframe tbody tr th:only-of-type {\n",
       "        vertical-align: middle;\n",
       "    }\n",
       "\n",
       "    .dataframe tbody tr th {\n",
       "        vertical-align: top;\n",
       "    }\n",
       "\n",
       "    .dataframe thead th {\n",
       "        text-align: right;\n",
       "    }\n",
       "</style>\n",
       "<table border=\"1\" class=\"dataframe\">\n",
       "  <thead>\n",
       "    <tr style=\"text-align: right;\">\n",
       "      <th></th>\n",
       "      <th>title</th>\n",
       "      <th>url</th>\n",
       "      <th>recruter</th>\n",
       "      <th>date</th>\n",
       "      <th>overview</th>\n",
       "      <th>content</th>\n",
       "    </tr>\n",
       "  </thead>\n",
       "  <tbody>\n",
       "    <tr>\n",
       "      <th>0</th>\n",
       "      <td>Assistante Commerciale</td>\n",
       "      <td>https://www.emploi.tg/offre-emploi-togo/assist...</td>\n",
       "      <td>ATS-AFRIQUE</td>\n",
       "      <td>2022-10-22</td>\n",
       "      <td>Vos missions :Sous la responsabilité de la Res...</td>\n",
       "      <td>Détails de l'annonce\\n\\nPoste proposé : Assist...</td>\n",
       "    </tr>\n",
       "    <tr>\n",
       "      <th>1</th>\n",
       "      <td>Délégué Médical</td>\n",
       "      <td>https://www.emploi.tg/offre-emploi-togo/delegu...</td>\n",
       "      <td>PLC TOGO</td>\n",
       "      <td>2022-10-21</td>\n",
       "      <td>Missions :Élaborer et proposer un plan d'actio...</td>\n",
       "      <td>Détails de l'annonce\\n\\nPoste proposé : Délégu...</td>\n",
       "    </tr>\n",
       "    <tr>\n",
       "      <th>2</th>\n",
       "      <td>Assistante Administrative - Djagblé</td>\n",
       "      <td>https://www.emploi.tg/offre-emploi-togo/assist...</td>\n",
       "      <td>SENFIL CONSULTING</td>\n",
       "      <td>2022-10-21</td>\n",
       "      <td>Un cabinet de la place, spécialisé dans le Con...</td>\n",
       "      <td>Détails de l'annonce\\n\\nPoste proposé : Assist...</td>\n",
       "    </tr>\n",
       "    <tr>\n",
       "      <th>3</th>\n",
       "      <td>Contrôleur de Gestion Expérimenté</td>\n",
       "      <td>https://www.emploi.tg/offre-emploi-togo/contro...</td>\n",
       "      <td>OIGH</td>\n",
       "      <td>2022-10-21</td>\n",
       "      <td>Nous recrutons un Contrôleur de Gestion Expéri...</td>\n",
       "      <td>Détails de l'annonce\\n\\nPoste proposé : Contrô...</td>\n",
       "    </tr>\n",
       "    <tr>\n",
       "      <th>4</th>\n",
       "      <td>Chargé Mission Ressources Humaines pour Etabli...</td>\n",
       "      <td>https://www.emploi.tg/offre-emploi-togo/charge...</td>\n",
       "      <td>OIGH</td>\n",
       "      <td>2022-10-21</td>\n",
       "      <td>Pour venir en appui à des Établissement de San...</td>\n",
       "      <td>Détails de l'annonce\\n\\nPoste proposé : Chargé...</td>\n",
       "    </tr>\n",
       "  </tbody>\n",
       "</table>\n",
       "</div>"
      ],
      "text/plain": [
       "                                               title  \\\n",
       "0                             Assistante Commerciale   \n",
       "1                                   Délégué Médical    \n",
       "2                Assistante Administrative - Djagblé   \n",
       "3                  Contrôleur de Gestion Expérimenté   \n",
       "4  Chargé Mission Ressources Humaines pour Etabli...   \n",
       "\n",
       "                                                 url           recruter  \\\n",
       "0  https://www.emploi.tg/offre-emploi-togo/assist...        ATS-AFRIQUE   \n",
       "1  https://www.emploi.tg/offre-emploi-togo/delegu...           PLC TOGO   \n",
       "2  https://www.emploi.tg/offre-emploi-togo/assist...  SENFIL CONSULTING   \n",
       "3  https://www.emploi.tg/offre-emploi-togo/contro...               OIGH   \n",
       "4  https://www.emploi.tg/offre-emploi-togo/charge...               OIGH   \n",
       "\n",
       "        date                                           overview  \\\n",
       "0 2022-10-22  Vos missions :Sous la responsabilité de la Res...   \n",
       "1 2022-10-21  Missions :Élaborer et proposer un plan d'actio...   \n",
       "2 2022-10-21  Un cabinet de la place, spécialisé dans le Con...   \n",
       "3 2022-10-21  Nous recrutons un Contrôleur de Gestion Expéri...   \n",
       "4 2022-10-21  Pour venir en appui à des Établissement de San...   \n",
       "\n",
       "                                             content  \n",
       "0  Détails de l'annonce\\n\\nPoste proposé : Assist...  \n",
       "1  Détails de l'annonce\\n\\nPoste proposé : Délégu...  \n",
       "2  Détails de l'annonce\\n\\nPoste proposé : Assist...  \n",
       "3  Détails de l'annonce\\n\\nPoste proposé : Contrô...  \n",
       "4  Détails de l'annonce\\n\\nPoste proposé : Chargé...  "
      ]
     },
     "execution_count": 9,
     "metadata": {},
     "output_type": "execute_result"
    }
   ],
   "source": [
    "dt = pd.read_json(OUTPUT_FILE)\n",
    "dt.head()"
   ]
  },
  {
   "cell_type": "markdown",
   "metadata": {
    "id": "a4O__zavBhyf"
   },
   "source": [
    "## Let get in touch\n",
    "[![Github Badge](https://img.shields.io/badge/-Github-000?style=flat-square&logo=Github&logoColor=white&link=https://github.com/joekakone)](https://github.com/joekakone) [![Facebook Badge](https://img.shields.io/badge/-Facebook-blue?style=flat-square&logo=Facebook&logoColor=white&link=https://www.facebook.com/joekakonepage)](https://www.facebook.com/joekakonepage) [![Linkedin Badge](https://img.shields.io/badge/-LinkedIn-blue?style=flat-square&logo=Linkedin&logoColor=white&link=https://www.linkedin.com/in/joseph-koami-konka/)](https://www.linkedin.com/in/joseph-koami-konka/) [![Twitter Badge](https://img.shields.io/badge/-Twitter-blue?style=flat-square&logo=Twitter&logoColor=white&link=https://www.twitter.com/joekakone)](https://www.twitter.com/joekakone) [![Gmail Badge](https://img.shields.io/badge/-Gmail-c14438?style=flat-square&logo=Gmail&logoColor=white&link=mailto:joseph.kakone@gmail.com)](mailto:joseph.kakone@gmail.com)"
   ]
  }
 ],
 "metadata": {
  "colab": {
   "authorship_tag": "ABX9TyMr0Ek1lEvCo9pzAhRjU/y8",
   "collapsed_sections": [],
   "include_colab_link": true,
   "name": "Scraping with BeautifuSoup.ipynb",
   "provenance": []
  },
  "kernelspec": {
   "display_name": "Python 3 (ipykernel)",
   "language": "python",
   "name": "python3"
  },
  "language_info": {
   "codemirror_mode": {
    "name": "ipython",
    "version": 3
   },
   "file_extension": ".py",
   "mimetype": "text/x-python",
   "name": "python",
   "nbconvert_exporter": "python",
   "pygments_lexer": "ipython3",
   "version": "3.9.5"
  }
 },
 "nbformat": 4,
 "nbformat_minor": 4
}
