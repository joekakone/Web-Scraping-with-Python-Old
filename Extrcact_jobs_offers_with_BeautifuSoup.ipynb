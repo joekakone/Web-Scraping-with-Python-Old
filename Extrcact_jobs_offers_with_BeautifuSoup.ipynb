{
  "nbformat": 4,
  "nbformat_minor": 0,
  "metadata": {
    "colab": {
      "name": "Scraping with BeautifuSoup.ipynb",
      "provenance": [],
      "collapsed_sections": [],
      "authorship_tag": "ABX9TyMr0Ek1lEvCo9pzAhRjU/y8",
      "include_colab_link": true
    },
    "kernelspec": {
      "name": "python3",
      "display_name": "Python 3"
    },
    "language_info": {
      "name": "python"
    }
  },
  "cells": [
    {
      "cell_type": "markdown",
      "metadata": {
        "id": "view-in-github",
        "colab_type": "text"
      },
      "source": [
        "<a href=\"https://colab.research.google.com/github/joekakone/Web-Scraping-with-Python/blob/master/Extrcact_jobs_offers_with_BeautifuSoup.ipynb\" target=\"_parent\"><img src=\"https://colab.research.google.com/assets/colab-badge.svg\" alt=\"Open In Colab\"/></a>"
      ]
    },
    {
      "cell_type": "markdown",
      "metadata": {
        "id": "m2HTl0fu8ORT"
      },
      "source": [
        "# Collect Job offers online with BeautifulSoup\n",
        "prepared by [Joseph Konka](https://www.linkedin.com/in/joseph-koami-konka/)"
      ]
    },
    {
      "cell_type": "markdown",
      "metadata": {
        "id": "kPupzyR57SNJ"
      },
      "source": [
        "## Packages"
      ]
    },
    {
      "cell_type": "code",
      "metadata": {
        "id": "gQ7IFdbt7Vjy"
      },
      "source": [
        "import json\n",
        "\n",
        "import requests\n",
        "from bs4 import BeautifulSoup\n",
        "import pandas as pd"
      ],
      "execution_count": null,
      "outputs": []
    },
    {
      "cell_type": "markdown",
      "metadata": {
        "id": "kbKAKQDM7Y-9"
      },
      "source": [
        "## Paths & Config"
      ]
    },
    {
      "cell_type": "code",
      "metadata": {
        "id": "vZY6WNr97dJN"
      },
      "source": [
        "BASE_URL = \"https://www.emploi.tg/recherche-jobs-togo?page={}\"\n",
        "\n",
        "MOTHER_BALISE = \"div\"\n",
        "MOTHER_CLASS = \"search-results jobsearch-results\"\n",
        "\n",
        "ITEM_BALISE = \"div\"\n",
        "ITEM_CLASS = \"job-description-wrapper\"\n",
        "ITEM_TITLE_BALISE = \"h5\"\n",
        "ITEM_RECRUTER_BALISE = \"p\"\n",
        "ITEM_RECRUTER_CLASS = \"job-recruiter\"\n",
        "SPLITER = \"|\"\n",
        "ITEM_OVERVIEW_BALISE = \"div\"\n",
        "ITEM_OVERVIEW_CLASS = \"search-description\"\n",
        "ITEM_LINK_BALISE = \"a\"\n",
        "\n",
        "WEBSITE_BALISE = \"td\"\n",
        "WEBSITE_CLASS = \"website-url\"\n",
        "\n",
        "FIELD_BALISE = \"div\"\n",
        "FIELD_CLASS = \"field-item even\"\n",
        "\n",
        "POSITION_MOTHER_BALISE = \"div\"\n",
        "POSITION_MOTHER_CLASS = \"ad-ss-title\"\n",
        "POSITION_BALISE = \"strong\"\n",
        "\n",
        "CONTENT_BALISE = \"div\"\n",
        "CONTENT_CLASS = \"jobs-ad-details\"\n",
        "\n",
        "OUTPUT_FILE = \"data.xlsx\""
      ],
      "execution_count": null,
      "outputs": []
    },
    {
      "cell_type": "markdown",
      "metadata": {
        "id": "slgLjts77f07"
      },
      "source": [
        "## Functions & Classes"
      ]
    },
    {
      "cell_type": "code",
      "metadata": {
        "id": "CVKlqY9x8m33"
      },
      "source": [
        "class BaseScraper(object):\n",
        "    def __init__(self, params=None):\n",
        "        self.params = params\n",
        "\n",
        "    @staticmethod\n",
        "    def get_source(url):\n",
        "        # retreive source code \n",
        "        code = requests.get(url)\n",
        "\n",
        "        return BeautifulSoup(code.text, \"html.parser\")\n",
        "\n",
        "    def extract_item_details(self):\n",
        "        raise NotImplementedError\n",
        "\n",
        "    def get_items(self):\n",
        "        raise NotImplementedError\n",
        "\n",
        "    @staticmethod\n",
        "    def save(data, path):\n",
        "        # Save data\n",
        "        print(f\"Saving data at {path}\")\n",
        "        writer = pd.ExcelWriter(path)\n",
        "        data.to_excel(writer, index=False, sheet_name=\"Offers\")"
      ],
      "execution_count": null,
      "outputs": []
    },
    {
      "cell_type": "code",
      "metadata": {
        "id": "W_lTAN8E7pBq"
      },
      "source": [
        "class EmploiTogoScraper(BaseScraper):\n",
        "    def __init__(self, params=None):\n",
        "        super().__init__(params=params)\n",
        "\n",
        "    def get_item_details(self, url):\n",
        "        print(\"->\", url)\n",
        "        soup = self.get_source(url)\n",
        "        field = soup.find(FIELD_BALISE, {\"class\": FIELD_CLASS}).text\n",
        "        content = soup.find(CONTENT_BALISE, {\"class\": CONTENT_CLASS}).text.strip()\n",
        "\n",
        "        details = {\n",
        "            \"field\": field,\n",
        "            \"content\": content\n",
        "        }\n",
        "        return details\n",
        "\n",
        "    def get_items(self, soup):\n",
        "        soup_items = soup.find_all(ITEM_BALISE, {\"class\": ITEM_CLASS})\n",
        "        items = []\n",
        "        for soup_item in soup_items:\n",
        "            title = soup_item.find(ITEM_TITLE_BALISE).text\n",
        "            recruter = soup_item.find(ITEM_RECRUTER_BALISE, {\"class\": ITEM_RECRUTER_CLASS})\n",
        "            date, recruter = recruter.text.split(SPLITER)\n",
        "            date, recruter = date.strip().replace(\".\", \"/\"), recruter.strip()\n",
        "            url = soup_item.get(\"data-href\")\n",
        "            overview = soup_item.find(ITEM_OVERVIEW_BALISE, {\"class\": ITEM_OVERVIEW_CLASS}).text\n",
        "            details = self.get_item_details(url)\n",
        "            items.append(\n",
        "                {\n",
        "                    \"title\": title,\n",
        "                    \"url\": url,\n",
        "                    \"recruter\": recruter,\n",
        "                    \"date\": date,\n",
        "                    \"overview\": overview,\n",
        "                    \"content\": details[\"content\"]\n",
        "                }\n",
        "            )\n",
        "        return items"
      ],
      "execution_count": null,
      "outputs": []
    },
    {
      "cell_type": "markdown",
      "metadata": {
        "id": "e_44Td649hxZ"
      },
      "source": [
        "## Start collecting data"
      ]
    },
    {
      "cell_type": "code",
      "metadata": {
        "id": "5DOGc7iv9RHf"
      },
      "source": [
        "scraper = EmploiTogoScraper()"
      ],
      "execution_count": null,
      "outputs": []
    },
    {
      "cell_type": "code",
      "metadata": {
        "colab": {
          "base_uri": "https://localhost:8080/"
        },
        "id": "0rUwWPB97rU8",
        "outputId": "e2ebf648-fc56-464e-c14c-86034924d850"
      },
      "source": [
        "jobs = []\n",
        "i = 0\n",
        "while True:\n",
        "    soup = scraper.get_source(BASE_URL.format(i))\n",
        "    try:\n",
        "        # Pagination\n",
        "        items = scraper.get_items(soup)\n",
        "        assert len(items) > 0\n",
        "        jobs.extend(items)\n",
        "        i += 1\n",
        "    except:\n",
        "        break\n"
      ],
      "execution_count": null,
      "outputs": [
        {
          "output_type": "stream",
          "name": "stdout",
          "text": [
            "-> https://www.emploi.tg/offre-emploi-togo/techniciens-agricoles-163821\n",
            "-> https://www.emploi.tg/offre-emploi-togo/charge-mission-ressources-humaines-etablissements-sante-hf-53421\n",
            "-> https://www.emploi.tg/offre-emploi-togo/gestionnaire-facturation-166671\n",
            "-> https://www.emploi.tg/offre-emploi-togo/data-scientist-dimensionnement-radio-166611\n",
            "-> https://www.emploi.tg/offre-emploi-togo/chef-projet-ran-166603\n",
            "-> https://www.emploi.tg/offre-emploi-togo/agent-accueil-operations-champions-166236\n",
            "-> https://www.emploi.tg/offre-emploi-togo/developpeur-125049\n",
            "-> https://www.emploi.tg/offre-emploi-togo/technicien-technicienne-informatique-hf-166421\n",
            "-> https://www.emploi.tg/offre-emploi-togo/developpeur-front-end-165789\n",
            "-> https://www.emploi.tg/offre-emploi-togo/agent-telemarketing-166234\n",
            "-> https://www.emploi.tg/offre-emploi-togo/analyste-programmeur-developpeur-165776\n",
            "-> https://www.emploi.tg/offre-emploi-togo/administrateur-systemes-reseaux-165778\n",
            "-> https://www.emploi.tg/offre-emploi-togo/commercial-lome-166278\n",
            "-> https://www.emploi.tg/offre-emploi-togo/responsable-commercial-166247\n",
            "-> https://www.emploi.tg/offre-emploi-togo/accounting-manager-166233\n",
            "-> https://www.emploi.tg/offre-emploi-togo/assistante-marketing-communication-166215\n",
            "-> https://www.emploi.tg/offre-emploi-togo/charge-chargee-partenariats-h3i-165588\n",
            "-> https://www.emploi.tg/offre-emploi-togo/charge-suivi-evaluation-apprentissage-165589\n",
            "-> https://www.emploi.tg/offre-emploi-togo/agents-hf-marketing-communication-165841\n",
            "-> https://www.emploi.tg/offre-emploi-togo/developpeur-front-end-165790\n",
            "-> https://www.emploi.tg/offre-emploi-togo/conseillers-pedagogiques-formation-hf-165477\n",
            "-> https://www.emploi.tg/offre-emploi-togo/developpeur-informatique-laravel-php-hf-147317\n",
            "-> https://www.emploi.tg/offre-emploi-togo/controleur-permanent-conformite-fh-165707\n",
            "-> https://www.emploi.tg/offre-emploi-togo/technicien-hospitalier-hygiene-assainissement-equipements-50804\n",
            "-> https://www.emploi.tg/offre-emploi-togo/ingenieur-integration-centreon-150701\n",
            "-> https://www.emploi.tg/offre-emploi-togo/developpeur-react-js-react-native-147934\n",
            "-> https://www.emploi.tg/offre-emploi-togo/integrateur-integratrice-web-148167\n",
            "-> https://www.emploi.tg/offre-emploi-togo/commercial-hf-165405\n",
            "-> https://www.emploi.tg/offre-emploi-togo/technicien-topographe-165335\n",
            "-> https://www.emploi.tg/offre-emploi-togo/conseiller-juridique-165304\n",
            "-> https://www.emploi.tg/offre-emploi-togo/comptable-hf-165302\n",
            "-> https://www.emploi.tg/offre-emploi-togo/developpeur-php-full-stack-senior-152373\n",
            "-> https://www.emploi.tg/offre-emploi-togo/developpeur-java-jee-hf-153280\n",
            "-> https://www.emploi.tg/offre-emploi-togo/developpeur-web-freelance-165222\n",
            "-> https://www.emploi.tg/offre-emploi-togo/gestionnaire-pays-togo-165050\n",
            "-> https://www.emploi.tg/offre-emploi-togo/representant-acquisition-chauffeur-kara-togo-165186\n",
            "-> https://www.emploi.tg/offre-emploi-togo/chef-projet-digital-147876\n",
            "-> https://www.emploi.tg/offre-emploi-togo/agent-accueil-operations-champions-tsevie-togo-165091\n",
            "-> https://www.emploi.tg/offre-emploi-togo/responsable-marketing-164996\n",
            "-> https://www.emploi.tg/offre-emploi-togo/gestionnaire-pays-togo-164998\n",
            "-> https://www.emploi.tg/offre-emploi-togo/responsable-developpement-commercial-164997\n",
            "-> https://www.emploi.tg/offre-emploi-togo/developpeur-php-angular-hf-164846\n",
            "-> https://www.emploi.tg/offre-emploi-togo/technico-commercial-assurance-iard-165033\n",
            "-> https://www.emploi.tg/offre-emploi-togo/chef-projet-amoa-147734\n",
            "-> https://www.emploi.tg/offre-emploi-togo/stage-communication-marketing-hf-164886\n",
            "-> https://www.emploi.tg/offre-emploi-togo/developpeur-php-angular-hf-164848\n",
            "-> https://www.emploi.tg/offre-emploi-togo/coordinateur-deploiement-ftth-164954\n",
            "-> https://www.emploi.tg/offre-emploi-togo/ingenieur-support-radio-gsmr-164951\n",
            "-> https://www.emploi.tg/offre-emploi-togo/community-manager-164929\n",
            "-> https://www.emploi.tg/offre-emploi-togo/consultante-vba-excel-sql-sage-164835\n",
            "-> https://www.emploi.tg/offre-emploi-togo/representant-street-activation-sokode-togo-164942\n",
            "-> https://www.emploi.tg/offre-emploi-togo/senior-java-developer-164803\n",
            "-> https://www.emploi.tg/offre-emploi-togo/developpeur-java-164796\n",
            "-> https://www.emploi.tg/offre-emploi-togo/business-analyst-confirme-junior-164794\n",
            "-> https://www.emploi.tg/offre-emploi-togo/agent-transactions-financieres-lome-togo-164797\n",
            "-> https://www.emploi.tg/offre-emploi-togo/scout-agent-terrain-atakpame-togo-164728\n",
            "-> https://www.emploi.tg/offre-emploi-togo/chef-projet-amoa-147581\n",
            "-> https://www.emploi.tg/offre-emploi-togo/representant-street-activation-kpalime-togo-164607\n",
            "-> https://www.emploi.tg/offre-emploi-togo/charge-operations-integration-chauffeurs-kpalime-164605\n",
            "-> https://www.emploi.tg/offre-emploi-togo/commercial-informatique-lome-togo-164389\n",
            "-> https://www.emploi.tg/offre-emploi-togo/consultant-national-specialiste-soins-sante-primaire-hf-164531\n",
            "-> https://www.emploi.tg/offre-emploi-togo/responsable-tresorerie-treasury-manager-163965\n",
            "-> https://www.emploi.tg/offre-emploi-togo/gestionnaire-paie-163917\n",
            "-> https://www.emploi.tg/offre-emploi-togo/developpeur-164317\n",
            "-> https://www.emploi.tg/offre-emploi-togo/developpeur-java-j2ee-147825\n",
            "-> https://www.emploi.tg/offre-emploi-togo/architecte-reseaux-securite-164289\n",
            "-> https://www.emploi.tg/offre-emploi-togo/offre-stage-marketing-164073\n",
            "-> https://www.emploi.tg/offre-emploi-togo/building-maintenance-technician-164221\n",
            "-> https://www.emploi.tg/offre-emploi-togo/field-manager-lome-togo-164150\n",
            "-> https://www.emploi.tg/offre-emploi-togo/enseignant-163430\n",
            "-> https://www.emploi.tg/offre-emploi-togo/televendeurs-experimentes-159329\n",
            "-> https://www.emploi.tg/offre-emploi-togo/referent-technique-163939\n",
            "-> https://www.emploi.tg/offre-emploi-togo/ingenieur-systeme-linux-confirme-163938\n",
            "-> https://www.emploi.tg/offre-emploi-togo/stagiaire-production-qualite-144939\n",
            "-> https://www.emploi.tg/offre-emploi-togo/incident-manager-163848\n",
            "-> https://www.emploi.tg/offre-emploi-togo/pilote-exploitation-163751\n",
            "-> https://www.emploi.tg/offre-emploi-togo/ingenieur-production-bancaire-163749\n",
            "-> https://www.emploi.tg/offre-emploi-togo/architecte-entreprise-163395\n",
            "-> https://www.emploi.tg/offre-emploi-togo/graphiste-163240\n",
            "-> https://www.emploi.tg/offre-emploi-togo/chef-mission-audit-163021\n",
            "-> https://www.emploi.tg/offre-emploi-togo/consultante-chargee-coordination-163061\n",
            "-> https://www.emploi.tg/offre-emploi-togo/tech-lead-163393\n",
            "-> https://www.emploi.tg/offre-emploi-togo/administrateur-middleware-163317\n",
            "-> https://www.emploi.tg/offre-emploi-togo/cuisinier-163304\n",
            "-> https://www.emploi.tg/offre-emploi-togo/agronome-163303\n",
            "-> https://www.emploi.tg/offre-emploi-togo/responsable-jardin-enfants-163300\n",
            "-> https://www.emploi.tg/offre-emploi-togo/ingenieur-reseau-core-ip-163190\n",
            "-> https://www.emploi.tg/offre-emploi-togo/architecte-reseau-securite-163186\n",
            "-> https://www.emploi.tg/offre-emploi-togo/analyste-securite-163316\n"
          ]
        }
      ]
    },
    {
      "cell_type": "markdown",
      "metadata": {
        "id": "hnfA_vjY78_S"
      },
      "source": [
        "## Transform into dataframe"
      ]
    },
    {
      "cell_type": "code",
      "metadata": {
        "colab": {
          "base_uri": "https://localhost:8080/",
          "height": 281
        },
        "id": "_NX_l6uF8DhA",
        "outputId": "23e60b76-0f49-4be7-c14e-58587ae6b5d9"
      },
      "source": [
        "data = pd.DataFrame(jobs)\n",
        "data.head()"
      ],
      "execution_count": null,
      "outputs": [
        {
          "output_type": "execute_result",
          "data": {
            "text/html": [
              "<div>\n",
              "<style scoped>\n",
              "    .dataframe tbody tr th:only-of-type {\n",
              "        vertical-align: middle;\n",
              "    }\n",
              "\n",
              "    .dataframe tbody tr th {\n",
              "        vertical-align: top;\n",
              "    }\n",
              "\n",
              "    .dataframe thead th {\n",
              "        text-align: right;\n",
              "    }\n",
              "</style>\n",
              "<table border=\"1\" class=\"dataframe\">\n",
              "  <thead>\n",
              "    <tr style=\"text-align: right;\">\n",
              "      <th></th>\n",
              "      <th>title</th>\n",
              "      <th>url</th>\n",
              "      <th>recruter</th>\n",
              "      <th>date</th>\n",
              "      <th>overview</th>\n",
              "      <th>content</th>\n",
              "    </tr>\n",
              "  </thead>\n",
              "  <tbody>\n",
              "    <tr>\n",
              "      <th>0</th>\n",
              "      <td>Techniciens Agricoles</td>\n",
              "      <td>https://www.emploi.tg/offre-emploi-togo/techni...</td>\n",
              "      <td>GEBANA TOGO</td>\n",
              "      <td>01/09/2021</td>\n",
              "      <td>Entreprise : Gebana Togo – Production et expor...</td>\n",
              "      <td>Détails de l'annonce\\n\\nPoste proposé : Techni...</td>\n",
              "    </tr>\n",
              "    <tr>\n",
              "      <th>1</th>\n",
              "      <td>Chargé Mission Ressources Humaines pour Etabli...</td>\n",
              "      <td>https://www.emploi.tg/offre-emploi-togo/charge...</td>\n",
              "      <td>OIGH</td>\n",
              "      <td>27/09/2021</td>\n",
              "      <td>Pour venir en appui à des établissements de sa...</td>\n",
              "      <td>Détails de l'annonce\\n\\nPoste proposé : Chargé...</td>\n",
              "    </tr>\n",
              "    <tr>\n",
              "      <th>2</th>\n",
              "      <td>Gestionnaire Facturation</td>\n",
              "      <td>https://www.emploi.tg/offre-emploi-togo/gestio...</td>\n",
              "      <td>T&amp;T CONSULTING</td>\n",
              "      <td>23/09/2021</td>\n",
              "      <td>Au sein de la direction de Production du Clien...</td>\n",
              "      <td>Détails de l'annonce\\n\\nPoste proposé : Gestio...</td>\n",
              "    </tr>\n",
              "    <tr>\n",
              "      <th>3</th>\n",
              "      <td>Data Scientist - Dimensionnement Radio</td>\n",
              "      <td>https://www.emploi.tg/offre-emploi-togo/data-s...</td>\n",
              "      <td>T&amp;T CONSULTING</td>\n",
              "      <td>23/09/2021</td>\n",
              "      <td>ACTIVITES PRINCIPALES :Vous déterminez les cri...</td>\n",
              "      <td>Détails de l'annonce\\n\\nPoste proposé : Data S...</td>\n",
              "    </tr>\n",
              "    <tr>\n",
              "      <th>4</th>\n",
              "      <td>Chef Projet RAN</td>\n",
              "      <td>https://www.emploi.tg/offre-emploi-togo/chef-p...</td>\n",
              "      <td>T&amp;T CONSULTING</td>\n",
              "      <td>22/09/2021</td>\n",
              "      <td>Descriptif de la mission :• Être le porteur du...</td>\n",
              "      <td>Détails de l'annonce\\n\\nPoste proposé : Chef P...</td>\n",
              "    </tr>\n",
              "  </tbody>\n",
              "</table>\n",
              "</div>"
            ],
            "text/plain": [
              "                                               title  ...                                            content\n",
              "0                              Techniciens Agricoles  ...  Détails de l'annonce\\n\\nPoste proposé : Techni...\n",
              "1  Chargé Mission Ressources Humaines pour Etabli...  ...  Détails de l'annonce\\n\\nPoste proposé : Chargé...\n",
              "2                           Gestionnaire Facturation  ...  Détails de l'annonce\\n\\nPoste proposé : Gestio...\n",
              "3             Data Scientist - Dimensionnement Radio  ...  Détails de l'annonce\\n\\nPoste proposé : Data S...\n",
              "4                                    Chef Projet RAN  ...  Détails de l'annonce\\n\\nPoste proposé : Chef P...\n",
              "\n",
              "[5 rows x 6 columns]"
            ]
          },
          "metadata": {},
          "execution_count": 7
        }
      ]
    },
    {
      "cell_type": "markdown",
      "metadata": {
        "id": "no9u9Wq971UI"
      },
      "source": [
        "## Save dat into Excel file"
      ]
    },
    {
      "cell_type": "code",
      "metadata": {
        "colab": {
          "base_uri": "https://localhost:8080/"
        },
        "id": "QgpA_MRo7Ioq",
        "outputId": "b70ba1b5-af06-4440-94a3-b12ab4cb1706"
      },
      "source": [
        "scraper.save(data, OUTPUT_FILE)"
      ],
      "execution_count": null,
      "outputs": [
        {
          "output_type": "stream",
          "name": "stdout",
          "text": [
            "Saving data at data.xlsx\n"
          ]
        }
      ]
    },
    {
      "cell_type": "markdown",
      "metadata": {
        "id": "FAgQJEDYEKQI"
      },
      "source": [
        "## Load the excel file"
      ]
    },
    {
      "cell_type": "code",
      "metadata": {
        "colab": {
          "base_uri": "https://localhost:8080/",
          "height": 281
        },
        "id": "nGVrAB_GC9kd",
        "outputId": "00866528-3124-47d0-dc5d-c6b4e4d63840"
      },
      "source": [
        "dt = pd.read_excel(OUTPUT_FILE, index_col=0)\n",
        "dt.head()"
      ],
      "execution_count": null,
      "outputs": [
        {
          "output_type": "execute_result",
          "data": {
            "text/html": [
              "<div>\n",
              "<style scoped>\n",
              "    .dataframe tbody tr th:only-of-type {\n",
              "        vertical-align: middle;\n",
              "    }\n",
              "\n",
              "    .dataframe tbody tr th {\n",
              "        vertical-align: top;\n",
              "    }\n",
              "\n",
              "    .dataframe thead th {\n",
              "        text-align: right;\n",
              "    }\n",
              "</style>\n",
              "<table border=\"1\" class=\"dataframe\">\n",
              "  <thead>\n",
              "    <tr style=\"text-align: right;\">\n",
              "      <th></th>\n",
              "      <th>title</th>\n",
              "      <th>url</th>\n",
              "      <th>recruter</th>\n",
              "      <th>date</th>\n",
              "      <th>overview</th>\n",
              "      <th>content</th>\n",
              "    </tr>\n",
              "  </thead>\n",
              "  <tbody>\n",
              "    <tr>\n",
              "      <th>0</th>\n",
              "      <td>Techniciens Agricoles</td>\n",
              "      <td>https://www.emploi.tg/offre-emploi-togo/techni...</td>\n",
              "      <td>GEBANA TOGO</td>\n",
              "      <td>01/09/2021</td>\n",
              "      <td>Entreprise : Gebana Togo – Production et expor...</td>\n",
              "      <td>\\n\\nDétails de l'annonce\\n\\nPoste proposé : Te...</td>\n",
              "    </tr>\n",
              "    <tr>\n",
              "      <th>1</th>\n",
              "      <td>Chargé Mission Ressources Humaines pour Etabli...</td>\n",
              "      <td>https://www.emploi.tg/offre-emploi-togo/charge...</td>\n",
              "      <td>OIGH</td>\n",
              "      <td>27/09/2021</td>\n",
              "      <td>Pour venir en appui à des établissements de sa...</td>\n",
              "      <td>\\n\\nDétails de l'annonce\\n\\nPoste proposé : Ch...</td>\n",
              "    </tr>\n",
              "    <tr>\n",
              "      <th>2</th>\n",
              "      <td>Gestionnaire Facturation</td>\n",
              "      <td>https://www.emploi.tg/offre-emploi-togo/gestio...</td>\n",
              "      <td>T&amp;T CONSULTING</td>\n",
              "      <td>23/09/2021</td>\n",
              "      <td>Au sein de la direction de Production du Clien...</td>\n",
              "      <td>\\n\\nDétails de l'annonce\\n\\nPoste proposé : Ge...</td>\n",
              "    </tr>\n",
              "    <tr>\n",
              "      <th>3</th>\n",
              "      <td>Data Scientist - Dimensionnement Radio</td>\n",
              "      <td>https://www.emploi.tg/offre-emploi-togo/data-s...</td>\n",
              "      <td>T&amp;T CONSULTING</td>\n",
              "      <td>23/09/2021</td>\n",
              "      <td>ACTIVITES PRINCIPALES :Vous déterminez les cri...</td>\n",
              "      <td>\\n\\nDétails de l'annonce\\n\\nPoste proposé : Da...</td>\n",
              "    </tr>\n",
              "    <tr>\n",
              "      <th>4</th>\n",
              "      <td>Chef Projet RAN</td>\n",
              "      <td>https://www.emploi.tg/offre-emploi-togo/chef-p...</td>\n",
              "      <td>T&amp;T CONSULTING</td>\n",
              "      <td>22/09/2021</td>\n",
              "      <td>Descriptif de la mission :• Être le porteur du...</td>\n",
              "      <td>\\n\\nDétails de l'annonce\\n\\nPoste proposé : Ch...</td>\n",
              "    </tr>\n",
              "  </tbody>\n",
              "</table>\n",
              "</div>"
            ],
            "text/plain": [
              "                                               title  ...                                            content\n",
              "0                              Techniciens Agricoles  ...  \\n\\nDétails de l'annonce\\n\\nPoste proposé : Te...\n",
              "1  Chargé Mission Ressources Humaines pour Etabli...  ...  \\n\\nDétails de l'annonce\\n\\nPoste proposé : Ch...\n",
              "2                           Gestionnaire Facturation  ...  \\n\\nDétails de l'annonce\\n\\nPoste proposé : Ge...\n",
              "3             Data Scientist - Dimensionnement Radio  ...  \\n\\nDétails de l'annonce\\n\\nPoste proposé : Da...\n",
              "4                                    Chef Projet RAN  ...  \\n\\nDétails de l'annonce\\n\\nPoste proposé : Ch...\n",
              "\n",
              "[5 rows x 6 columns]"
            ]
          },
          "metadata": {},
          "execution_count": 9
        }
      ]
    },
    {
      "cell_type": "markdown",
      "metadata": {
        "id": "a4O__zavBhyf"
      },
      "source": [
        "## Let get in touch\n",
        "[![Github Badge](https://img.shields.io/badge/-Github-000?style=flat-square&logo=Github&logoColor=white&link=https://github.com/joekakone)](https://github.com/joekakone) [![Facebook Badge](https://img.shields.io/badge/-Facebook-blue?style=flat-square&logo=Facebook&logoColor=white&link=https://www.facebook.com/josephkonka1999)](https://www.facebook.com/josephkonka1999) [![Linkedin Badge](https://img.shields.io/badge/-LinkedIn-blue?style=flat-square&logo=Linkedin&logoColor=white&link=https://www.linkedin.com/in/joseph-koami-konka/)](https://www.linkedin.com/in/joseph-koami-konka/) [![Twitter Badge](https://img.shields.io/badge/-Twitter-blue?style=flat-square&logo=Twitter&logoColor=white&link=https://www.twitter.com/joekakone)](https://www.twitter.com/joekakone) [![Gmail Badge](https://img.shields.io/badge/-Gmail-c14438?style=flat-square&logo=Gmail&logoColor=white&link=mailto:joseph.kakone@gmail.com)](mailto:joseph.kakone@gmail.com)"
      ]
    }
  ]
}